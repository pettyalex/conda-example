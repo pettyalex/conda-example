{
 "cells": [
  {
   "cell_type": "code",
   "execution_count": 6,
   "id": "26d2464e",
   "metadata": {},
   "outputs": [],
   "source": [
    "import random\n",
    "\n",
    "datafile = open('random-data.txt', 'w')\n",
    "\n",
    "for i in range(1, 300000):\n",
    "    rand_int = random.randint(0,400)\n",
    "    datafile.write(f\"{rand_int}\\n\")\n",
    "\n",
    "datafile.close()"
   ]
  },
  {
   "cell_type": "code",
   "execution_count": 7,
   "id": "afe6786d",
   "metadata": {},
   "outputs": [],
   "source": [
    "with open('random-data.txt') as file:\n",
    "    values = []\n",
    "    \n",
    "    for line in file:\n",
    "        values.append(int(line.strip()))\n",
    "    "
   ]
  },
  {
   "cell_type": "code",
   "execution_count": null,
   "id": "bb9c5039",
   "metadata": {},
   "outputs": [],
   "source": [
    "%prun\n"
   ]
  },
  {
   "cell_type": "code",
   "execution_count": null,
   "id": "5824f1a2",
   "metadata": {},
   "outputs": [],
   "source": []
  }
 ],
 "metadata": {
  "kernelspec": {
   "display_name": "Python 3 (ipykernel)",
   "language": "python",
   "name": "python3"
  },
  "language_info": {
   "codemirror_mode": {
    "name": "ipython",
    "version": 3
   },
   "file_extension": ".py",
   "mimetype": "text/x-python",
   "name": "python",
   "nbconvert_exporter": "python",
   "pygments_lexer": "ipython3",
   "version": "3.8.12"
  }
 },
 "nbformat": 4,
 "nbformat_minor": 5
}
